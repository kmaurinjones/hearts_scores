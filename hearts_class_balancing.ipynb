{
 "cells": [
  {
   "attachments": {},
   "cell_type": "markdown",
   "metadata": {},
   "source": [
    "## Data Processing & Engineering"
   ]
  },
  {
   "attachments": {},
   "cell_type": "markdown",
   "metadata": {},
   "source": [
    "### Reading in Data"
   ]
  },
  {
   "cell_type": "code",
   "execution_count": 3,
   "metadata": {},
   "outputs": [],
   "source": [
    "# imports for processing\n",
    "\n",
    "import pandas as pd\n",
    "import numpy as np"
   ]
  },
  {
   "cell_type": "code",
   "execution_count": 6,
   "metadata": {},
   "outputs": [
    {
     "name": "stdout",
     "output_type": "stream",
     "text": [
      "(504, 12)\n"
     ]
    },
    {
     "data": {
      "text/html": [
       "<div>\n",
       "<style scoped>\n",
       "    .dataframe tbody tr th:only-of-type {\n",
       "        vertical-align: middle;\n",
       "    }\n",
       "\n",
       "    .dataframe tbody tr th {\n",
       "        vertical-align: top;\n",
       "    }\n",
       "\n",
       "    .dataframe thead th {\n",
       "        text-align: right;\n",
       "    }\n",
       "</style>\n",
       "<table border=\"1\" class=\"dataframe\">\n",
       "  <thead>\n",
       "    <tr style=\"text-align: right;\">\n",
       "      <th></th>\n",
       "      <th>game_id</th>\n",
       "      <th>hand_id</th>\n",
       "      <th>player</th>\n",
       "      <th>received_cards_from</th>\n",
       "      <th>total_score</th>\n",
       "      <th>points_per_hand</th>\n",
       "      <th>percent_points_per_hand</th>\n",
       "      <th>queen_spades</th>\n",
       "      <th>moon_shooter</th>\n",
       "      <th>best_player_of_hand</th>\n",
       "      <th>best_player_of_game</th>\n",
       "      <th>game_winner</th>\n",
       "    </tr>\n",
       "  </thead>\n",
       "  <tbody>\n",
       "    <tr>\n",
       "      <th>0</th>\n",
       "      <td>1</td>\n",
       "      <td>1</td>\n",
       "      <td>player_1</td>\n",
       "      <td>player_4</td>\n",
       "      <td>6</td>\n",
       "      <td>6.0</td>\n",
       "      <td>6.12</td>\n",
       "      <td>0</td>\n",
       "      <td>none</td>\n",
       "      <td>player_2</td>\n",
       "      <td>player_1</td>\n",
       "      <td>player_2</td>\n",
       "    </tr>\n",
       "    <tr>\n",
       "      <th>1</th>\n",
       "      <td>1</td>\n",
       "      <td>2</td>\n",
       "      <td>player_1</td>\n",
       "      <td>player_2</td>\n",
       "      <td>6</td>\n",
       "      <td>0.0</td>\n",
       "      <td>0.00</td>\n",
       "      <td>0</td>\n",
       "      <td>none</td>\n",
       "      <td>player_1</td>\n",
       "      <td>player_1</td>\n",
       "      <td>player_2</td>\n",
       "    </tr>\n",
       "    <tr>\n",
       "      <th>2</th>\n",
       "      <td>1</td>\n",
       "      <td>3</td>\n",
       "      <td>player_1</td>\n",
       "      <td>player_3</td>\n",
       "      <td>10</td>\n",
       "      <td>4.0</td>\n",
       "      <td>4.08</td>\n",
       "      <td>0</td>\n",
       "      <td>none</td>\n",
       "      <td>player_2</td>\n",
       "      <td>player_1</td>\n",
       "      <td>player_2</td>\n",
       "    </tr>\n",
       "    <tr>\n",
       "      <th>3</th>\n",
       "      <td>1</td>\n",
       "      <td>4</td>\n",
       "      <td>player_1</td>\n",
       "      <td>none</td>\n",
       "      <td>26</td>\n",
       "      <td>16.0</td>\n",
       "      <td>16.33</td>\n",
       "      <td>1</td>\n",
       "      <td>none</td>\n",
       "      <td>player_4</td>\n",
       "      <td>player_1</td>\n",
       "      <td>player_2</td>\n",
       "    </tr>\n",
       "    <tr>\n",
       "      <th>4</th>\n",
       "      <td>1</td>\n",
       "      <td>5</td>\n",
       "      <td>player_1</td>\n",
       "      <td>player_4</td>\n",
       "      <td>26</td>\n",
       "      <td>0.0</td>\n",
       "      <td>0.00</td>\n",
       "      <td>0</td>\n",
       "      <td>none</td>\n",
       "      <td>player_1</td>\n",
       "      <td>player_1</td>\n",
       "      <td>player_2</td>\n",
       "    </tr>\n",
       "  </tbody>\n",
       "</table>\n",
       "</div>"
      ],
      "text/plain": [
       "   game_id  hand_id    player received_cards_from  total_score  \\\n",
       "0        1        1  player_1            player_4            6   \n",
       "1        1        2  player_1            player_2            6   \n",
       "2        1        3  player_1            player_3           10   \n",
       "3        1        4  player_1                none           26   \n",
       "4        1        5  player_1            player_4           26   \n",
       "\n",
       "   points_per_hand  percent_points_per_hand  queen_spades moon_shooter  \\\n",
       "0              6.0                     6.12             0         none   \n",
       "1              0.0                     0.00             0         none   \n",
       "2              4.0                     4.08             0         none   \n",
       "3             16.0                    16.33             1         none   \n",
       "4              0.0                     0.00             0         none   \n",
       "\n",
       "  best_player_of_hand best_player_of_game game_winner  \n",
       "0            player_2            player_1    player_2  \n",
       "1            player_1            player_1    player_2  \n",
       "2            player_2            player_1    player_2  \n",
       "3            player_4            player_1    player_2  \n",
       "4            player_1            player_1    player_2  "
      ]
     },
     "execution_count": 6,
     "metadata": {},
     "output_type": "execute_result"
    }
   ],
   "source": [
    "scores = pd.read_csv('data/hearts_anon_processed.csv').drop(columns = \"Unnamed: 0\")\n",
    "print(scores.shape)\n",
    "scores.head()"
   ]
  },
  {
   "cell_type": "code",
   "execution_count": 7,
   "metadata": {},
   "outputs": [
    {
     "name": "stdout",
     "output_type": "stream",
     "text": [
      "['player_4' 'player_2' 'player_3' 'none' 'player_1']\n",
      "['player_1' 'player_2' 'player_3' 'player_4']\n"
     ]
    },
    {
     "data": {
      "text/plain": [
       "{'1': 10,\n",
       " '2': 11,\n",
       " '3': 8,\n",
       " '4': 12,\n",
       " '5': 8,\n",
       " '6': 12,\n",
       " '7': 7,\n",
       " '8': 9,\n",
       " '9': 5,\n",
       " '10': 8,\n",
       " '11': 9,\n",
       " '12': 8,\n",
       " '13': 12,\n",
       " '14': 7}"
      ]
     },
     "execution_count": 7,
     "metadata": {},
     "output_type": "execute_result"
    }
   ],
   "source": [
    "### Dictionary of the number of hands in each game\n",
    "\n",
    "num_games = scores['game_id'].unique() # returns list of unique values of game_id column, which is the number of games played\n",
    "player_list = scores.sort_values(by = \"player\", ascending = True)['player'].unique() # ordered list of player names\n",
    "games_and_hands_dict = {} # dict with keys as game_id and values as total number of hands in each game\n",
    "\n",
    "for game in num_games:\n",
    "\n",
    "    hands_per_game = scores.query(f'game_id == {game}')['hand_id'].unique() # returns an array of ints from 1:max number of hands\n",
    "    games_and_hands_dict[f'{game}'] = len(hands_per_game)\n",
    "\n",
    "print (scores['received_cards_from'].unique()) # making sure there are only 4 players + \"none\" (and no spelling errors)\n",
    "print (player_list) # making sure there are only 4 players (and no spelling errors)\n",
    "\n",
    "games_and_hands_dict"
   ]
  },
  {
   "attachments": {},
   "cell_type": "markdown",
   "metadata": {},
   "source": [
    "### Dealing with Class Imbalance\n",
    "- player 2 won 56% of games "
   ]
  },
  {
   "cell_type": "code",
   "execution_count": 13,
   "metadata": {},
   "outputs": [
    {
     "data": {
      "text/plain": [
       "player_2    0.563492\n",
       "player_3    0.214286\n",
       "player_4    0.126984\n",
       "player_1    0.095238\n",
       "Name: game_winner, dtype: float64"
      ]
     },
     "execution_count": 13,
     "metadata": {},
     "output_type": "execute_result"
    }
   ],
   "source": [
    "scores['game_winner'].value_counts(normalize = True)"
   ]
  },
  {
   "cell_type": "code",
   "execution_count": null,
   "metadata": {},
   "outputs": [],
   "source": []
  },
  {
   "cell_type": "code",
   "execution_count": null,
   "metadata": {},
   "outputs": [],
   "source": []
  }
 ],
 "metadata": {
  "kernelspec": {
   "display_name": "hearts",
   "language": "python",
   "name": "python3"
  },
  "language_info": {
   "codemirror_mode": {
    "name": "ipython",
    "version": 3
   },
   "file_extension": ".py",
   "mimetype": "text/x-python",
   "name": "python",
   "nbconvert_exporter": "python",
   "pygments_lexer": "ipython3",
   "version": "3.10.8"
  },
  "orig_nbformat": 4,
  "vscode": {
   "interpreter": {
    "hash": "293acc11c9364f93c264aaab57e89854eac2809a1745d78c9c36231dbdfb6860"
   }
  }
 },
 "nbformat": 4,
 "nbformat_minor": 2
}
